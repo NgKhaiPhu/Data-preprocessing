{
 "cells": [
  {
   "cell_type": "markdown",
   "metadata": {
    "id": "lgM0m7FQBO0S"
   },
   "source": [
    "# Lab 01: Data preprocessing\n",
    "\n",
    "Họ tên: Nguyễn Khải Phú\n",
    "\n",
    "MSSV: 20127062"
   ]
  },
  {
   "cell_type": "markdown",
   "metadata": {
    "id": "4vw9l22Qmz_K"
   },
   "source": [
    "## Import"
   ]
  },
  {
   "cell_type": "code",
   "execution_count": 1,
   "metadata": {
    "id": "Eb9O7Il0my42"
   },
   "outputs": [],
   "source": [
    "\n",
    "import math\n",
    "import csv\n"
   ]
  },
  {
   "cell_type": "markdown",
   "metadata": {
    "id": "HBug-Plhm-FD"
   },
   "source": [
    "## Thu thập dữ liệu"
   ]
  },
  {
   "cell_type": "markdown",
   "metadata": {
    "id": "ZXMkvEeMBO0b"
   },
   "source": [
    "## Phần 1: Tiền xử lý dữ liệu (7.5đ)\n",
    "\n",
    "**Lưu ý:**\n",
    "\n",
    "Sinh viên không được sử dụng các hàm có sẵn của pandas hay numpy mà cần phải tự cài đặt lại"
   ]
  },
  {
   "cell_type": "markdown",
   "metadata": {
    "id": "FsMofBU4BO0c"
   },
   "source": [
    "Mô tả dữ liệu theo thứ tự cột:\n",
    "```\n",
    "id :                 int\n",
    "Hoa :                float \n",
    "Li :                 float \n",
    "Ma_mon_ngoai_ngu :   str\n",
    "Ngoai_ngu :          float \n",
    "Sinh :               float \n",
    "Toan :               float \n",
    "Van :                float\n",
    "``` \n",
    "\n",
    "Tuy nhiên, đọc file bằng thư viện csv sẽ chuyển tất cả các giá trị về kiểu `str`, ta sẽ sẽ ép kiểu các giá trị số (trừ các giá trị rỗng) về theo kiểu dữ liệu phù hợp "
   ]
  },
  {
   "cell_type": "markdown",
   "metadata": {
    "id": "WYk0DMQNBO0d"
   },
   "source": [
    "Đọc file dữ liệu"
   ]
  },
  {
   "cell_type": "code",
   "execution_count": 2,
   "metadata": {
    "id": "ldTDDNd7mInK"
   },
   "outputs": [],
   "source": [
    "def data_reader(path):\n",
    "    csv_reader = csv.reader(open(path, 'r'), delimiter=',')\n",
    "\n",
    "    # Skip header\n",
    "    data = []\n",
    "    header = csv_reader\n",
    "    for i,row in enumerate(csv_reader):\n",
    "        if i == 0:\n",
    "            header = row\n",
    "            continue\n",
    "        convert_list = []\n",
    "        for i, element in enumerate(row):\n",
    "            if element == '':\n",
    "                convert_list.append(str(element))\n",
    "                continue\n",
    "            if i == 0:\n",
    "                convert_list.append(int(element))\n",
    "            elif i == 3:\n",
    "                convert_list.append(str(element))\n",
    "            else:\n",
    "                convert_list.append(float(element))\n",
    "        data.append(convert_list)\n",
    "    return header, data"
   ]
  },
  {
   "cell_type": "code",
   "execution_count": 3,
   "metadata": {
    "id": "r2-3-J79BO0e"
   },
   "outputs": [],
   "source": [
    "header, data = data_reader('diemthi2019.csv')"
   ]
  },
  {
   "cell_type": "code",
   "execution_count": 4,
   "metadata": {
    "id": "kcsfO_rFBO0e"
   },
   "outputs": [
    {
     "name": "stdout",
     "output_type": "stream",
     "text": [
      "header:  ['id', 'Hoa', 'Li', 'Ma_mon_ngoai_ngu', 'Ngoai_ngu', 'Sinh', 'Toan', 'Van']\n",
      "So dong:  296980\n"
     ]
    }
   ],
   "source": [
    "print(\"header: \", header)\n",
    "print(\"So dong: \", len(data))"
   ]
  },
  {
   "cell_type": "code",
   "execution_count": 5,
   "metadata": {
    "id": "wyEDYgkKBO0e"
   },
   "outputs": [
    {
     "data": {
      "text/plain": [
       "[[23, 6.75, 5.25, 'N1', 3.6, 3.25, 7.0, 6.17],\n",
       " [24, 7.75, 7.0, 'N1', 5.4, 4.0, 7.8, 5.0],\n",
       " [25, 3.75, 3.5, '', '', '', 6.8, ''],\n",
       " [26, 4.5, 5.75, 'N1', 8.0, 4.75, 8.2, 6.0],\n",
       " [27, 3.5, 6.75, 'N1', 6.2, 3.0, 7.6, 7.25],\n",
       " [28, 3.0, 5.5, 'N1', 4.8, 3.75, 6.2, 4.75],\n",
       " [29, 3.75, 7.5, 'N1', 6.4, 2.5, 7.2, 6.75],\n",
       " [30, 3.75, 6.0, 'N1', 7.6, 4.25, 7.6, 7.25],\n",
       " [31, 4.5, 5.75, 'N1', 6.6, 4.75, 7.2, 5.5],\n",
       " [32, 7.0, 4.75, 'N1', 5.4, 7.0, 7.2, 8.0]]"
      ]
     },
     "execution_count": 5,
     "metadata": {},
     "output_type": "execute_result"
    }
   ],
   "source": [
    "data[23:33]"
   ]
  },
  {
   "cell_type": "markdown",
   "metadata": {
    "id": "b6mR8GQkBO0f"
   },
   "source": [
    "### 1) Liệt kê các cột thiếu dữ liệu (0.5đ)\n",
    "Hàm `checkNaN_col()` sẽ trả về `list` chứa tên cột nếu như cột bị thiếu dữ liệu"
   ]
  },
  {
   "cell_type": "code",
   "execution_count": 6,
   "metadata": {
    "id": "zDQ_uSLBmNrB"
   },
   "outputs": [],
   "source": [
    "def checkNaN_col(data, header):\n",
    "    \"\"\"Hàm này sẽ liệt kê các cột có chứa dữ liệu có dạng chuỗi rỗng\n",
    "\n",
    "    Args:\n",
    "        data <list<list>>: list của các dòng dữ liệu trong file dữ liệu đầu vào, mỗi dòng sẽ là một list các giá trị\n",
    "        header <list>: list chứa tên của các cột trong file dữ liệu\n",
    "\n",
    "    Returns:\n",
    "        <list>: danh sách chứa tên các cột có chứa giá trị chuỗi rỗng\n",
    "    \"\"\"\n",
    "    headerflag = [0 for i in header] \n",
    "    for row in data:\n",
    "        for i, value in enumerate(row):\n",
    "            if value == '':\n",
    "                headerflag[i] = 1\n",
    "    missingCol = [header[i] for i in range(len(headerflag)) if headerflag[i] == 1]\n",
    "    return missingCol    "
   ]
  },
  {
   "cell_type": "code",
   "execution_count": 7,
   "metadata": {
    "id": "28oymE_jyZM1"
   },
   "outputs": [],
   "source": [
    "assert len(checkNaN_col(data, header)) == 7"
   ]
  },
  {
   "cell_type": "markdown",
   "metadata": {
    "id": "gR-Hr4HJBO0f"
   },
   "source": [
    "Hàm `checkNaN_row()` sẽ trả về `list` chứa index của các dòng có tồn tại giá trị rỗng"
   ]
  },
  {
   "cell_type": "code",
   "execution_count": 8,
   "metadata": {
    "id": "uhENRinXBO0f"
   },
   "outputs": [],
   "source": [
    "def checkNaN_row(data):\n",
    "    \"\"\"Hàm này sẽ đếm số dòng có chứa dữ liệu có dạng chuỗi rỗng\n",
    "\n",
    "    Args:\n",
    "        data <list<list>>: list của các dòng dữ liệu trong file dữ liệu đầu vào, mỗi dòng sẽ là một list các giá trị\n",
    "        \n",
    "    Returns:\n",
    "        <list>: danh sách chứa index của các dòng có tồn tại giá trị chuỗi rỗng\n",
    "    \"\"\"\n",
    "    index = []\n",
    "    for i in range(len(data)):\n",
    "        for j in range(len(data[0])):\n",
    "            if data[i][j] == '':\n",
    "                index.append(i)\n",
    "                break\n",
    "    return index"
   ]
  },
  {
   "cell_type": "code",
   "execution_count": 9,
   "metadata": {
    "id": "pJ0lMU2rBO0f"
   },
   "outputs": [],
   "source": [
    "row_have_NaN = checkNaN_row(data)\n",
    "assert len(row_have_NaN) == 17753"
   ]
  },
  {
   "cell_type": "markdown",
   "metadata": {
    "id": "Bqzd9sAFBO0f"
   },
   "source": [
    "### 2) Điền giá trị thiếu (1.5đ)\n",
    "Điền giá trị thiếu bằng phương pháp constant (điền giá trị 0), mean, median vào giá trị thiếu cho cột numeric, và mode cho cột categorical. Đối với các thuộc tính numeric, giá trị điền vào sẽ là giá trị `float`, đối với thuộc tính categorical, giá trị điền vào sẽ là giá trị `str`\n",
    "\n",
    "**Lưu ý:** khi tính mean, median hay mode các bạn cần bỏ qua giá trị bị thiếu. Khi thao tác trên các cột dạng float, kết quả phải được làm tròn ở hai chữ số bằng hàm `round()`\n",
    "\n",
    "Hàm tính mean/median/mode của các cột tương ứng trong dữ liệu sẽ trả về một danh sách, chứa các giá trị mean/median/mode của các cột, và sẽ được hàm `fill_data()` sử dụng danh sách đó để điền vào giá trị thiếu\n",
    "\n"
   ]
  },
  {
   "cell_type": "code",
   "execution_count": 10,
   "metadata": {
    "id": "U3ehqwqPBO0g"
   },
   "outputs": [],
   "source": [
    "def sum_data(data):\n",
    "    \"\"\"Hàm này dùng để tính tổng theo các cột có dạng numeric\n",
    "\n",
    "    Args:\n",
    "        data <list<list>>: list của các dòng dữ liệu trong file dữ liệu đầu vào, mỗi dòng sẽ là một list các giá trị\n",
    "\n",
    "    Returns:\n",
    "        <list>, list chứa các giá trị tổng theo cột\n",
    "        <list>: list chứa số lượng giá trị khác giá trị chuỗi rỗng\n",
    "    \"\"\"\n",
    "    # Hàm này sẽ được dùng bổ trợ để tính sum và số lượng mẫu không bị thiếu của từng cột thuộc tính (trừ cột id)\n",
    "    sums = [0 for i in header]\n",
    "    numbers = [0 for i in header]\n",
    "    for i in range(len(data)):\n",
    "        for j in range(len(data[0])):\n",
    "            if j == 0 or j == 3 or data[i][j] == '':\n",
    "                continue\n",
    "            sums[j] += data[i][j]\n",
    "            numbers[j] += 1\n",
    "    sums = [sums[i] for i in range(len(sums)) if i != 0 and i != 3]\n",
    "    numbers = [numbers[i] for i in range(len(numbers)) if i != 0 and i != 3]\n",
    "    return sums, numbers"
   ]
  },
  {
   "cell_type": "code",
   "execution_count": 11,
   "metadata": {
    "id": "pj-uBXxeBO0g"
   },
   "outputs": [],
   "source": [
    "def mean(data):\n",
    "    \"\"\"Hàm này dùng để tính trung bình theo các cột có dạng numeric\n",
    "\n",
    "    Args:\n",
    "        data <list<list>>: list của các dòng dữ liệu trong file dữ liệu đầu vào, mỗi dòng sẽ là một list các giá trị\n",
    "\n",
    "    Returns:\n",
    "        <list>: list chứa các giá trị trung bình theo từng cột\n",
    "    \"\"\"\n",
    "    sums, numbers = sum_data(data)\n",
    "    return [round(sums[i]/numbers[i],2) for i in range(len(sums))]"
   ]
  },
  {
   "cell_type": "code",
   "execution_count": 12,
   "metadata": {
    "id": "5j4Z4gRjBO0g"
   },
   "outputs": [],
   "source": [
    "assert mean(data) == [5.34, 5.56, 4.76, 4.67, 6.8, 5.62]"
   ]
  },
  {
   "cell_type": "code",
   "execution_count": 13,
   "metadata": {
    "id": "IqxUiO25BO0g"
   },
   "outputs": [],
   "source": [
    "def median(data):\n",
    "    \"\"\"Hàm này dùng để tính trung bình theo các cột có dạng numeric\n",
    "\n",
    "    Args:\n",
    "        data <list<list>>: list của các dòng dữ liệu trong file dữ liệu đầu vào, mỗi dòng sẽ là một list các giá trị\n",
    "\n",
    "    Returns:\n",
    "        <list>: list chứa các giá trị trung vị theo từng cột\n",
    "    \"\"\"\n",
    "    sums, numbers = sum_data(data)\n",
    "    values = [[] for i in range(len(numbers))]\n",
    "    result = []\n",
    "    for i in range(len(data)):\n",
    "        res_i = -1\n",
    "        for j in range(len(data[0])):\n",
    "            if j == 0 or j == 3:\n",
    "                continue\n",
    "            res_i += 1\n",
    "            if data[i][j] == '':\n",
    "                continue\n",
    "            values[res_i].append(data[i][j])\n",
    "    for i in range(len(numbers)):\n",
    "        values[i].sort()\n",
    "        result.append(round(values[i][int(numbers[i]/2)],2))\n",
    "    return result      "
   ]
  },
  {
   "cell_type": "code",
   "execution_count": 14,
   "metadata": {
    "id": "MQ6BX685BO0g"
   },
   "outputs": [],
   "source": [
    "assert median(data) == [5.5, 5.75, 4.4, 4.5, 7.0, 5.75]"
   ]
  },
  {
   "cell_type": "code",
   "execution_count": 15,
   "metadata": {
    "id": "tsMZUlpuBO0g"
   },
   "outputs": [],
   "source": [
    "def find_distinct_value(data):\n",
    "    \"\"\"Hàm này sẽ có nhiệm vụ tìm và trả về danh sách chứa các giá trị có thể có của cột 'Ma_mon_ngoai_ngu'\n",
    "\n",
    "    Args:\n",
    "        data <list<list>>: list của các dòng dữ liệu trong file dữ liệu đầu vào, mỗi dòng sẽ là một list các giá trị\n",
    "\n",
    "    Returns:\n",
    "        <list>: list đã được sắp xếp, chứa các giá trị chuỗi có thể có của cột 'Ma_mon_ngoai_ngu'\n",
    "    \"\"\"\n",
    "    # # Chỉ cần quan tâm đến cột 'Ma_mon_ngoai_ngu' và tìm ra các giá trị có thể có\n",
    "    MaNN = []\n",
    "    for i in data:\n",
    "        if i[3] not in MaNN and i[3] != '':\n",
    "            MaNN.append(i[3])\n",
    "    return sorted(MaNN)"
   ]
  },
  {
   "cell_type": "markdown",
   "metadata": {
    "id": "h6KE8voSBO0g"
   },
   "source": [
    "Thực hiện đếm số lần xuất hiện của các giá trị đã được tìm và chọn ra giá trị xuất hiện nhiều lần nhất, nếu có nhiều giá trị cùng xuất hiện nhiều lần, thì chọn giá trị nhỏ hơn theo bảng chữ cái"
   ]
  },
  {
   "cell_type": "code",
   "execution_count": 16,
   "metadata": {
    "id": "JXmkV8H8BO0g"
   },
   "outputs": [],
   "source": [
    "def mode(data):\n",
    "    \"\"\"Hàm này sẽ có mục tiêu tìm ra giá trị chuỗi xuất hiện nhiều lần nhất. Để đơn giản, sinh viên chỉ cần quan đến cột 'Ma_mon_ngoai_ngu'\n",
    "\n",
    "    Args:\n",
    "        data <list<list>>: list của các dòng dữ liệu trong file dữ liệu đầu vào, mỗi dòng sẽ là một list các giá trị\n",
    "\n",
    "    Returns:\n",
    "        str: giá trị chuỗi xuất hiện nhiều lần nhất trong cột 'Ma_mon_ngoai_ngu', nếu có nhiều hơn một kết quả, chọn chuỗi nhỏ hơn theo bảng chữ cái\n",
    "    \"\"\"\n",
    "    MaNN = [[i,0] for i in find_distinct_value(data)]\n",
    "    for i in data:\n",
    "        for j in MaNN:\n",
    "            if i[3] == j[0]:\n",
    "                j[1] += 1\n",
    "                break\n",
    "    maxMaNN = MaNN[0]\n",
    "    for i in MaNN[1:]:\n",
    "        if i[1] > maxMaNN[1]:\n",
    "            maxMaNN = i\n",
    "    return maxMaNN"
   ]
  },
  {
   "cell_type": "markdown",
   "metadata": {
    "id": "H4uNlowbBO0h"
   },
   "source": [
    "Hàm `fill_data` sẽ cho phép tùy chọn điền vào giá trị thiếu của cột dạng numeric bằng giá trị 0 hoặc `mean` hoặc `median`, còn cột có dạng categorical sẽ mặc định được fill bằng mode"
   ]
  },
  {
   "cell_type": "code",
   "execution_count": 17,
   "metadata": {
    "id": "w9MPnkDnBO0h"
   },
   "outputs": [],
   "source": [
    "def fill_data(data, type_on_numeric = 'mean'):\n",
    "    \"\"\"Hàm này có nhiệm vụ điền dữ liệu bị thiếu\n",
    "\n",
    "    Args:\n",
    "        data <list<list>>: list của các dòng dữ liệu trong file dữ liệu đầu vào, mỗi dòng sẽ là một list các giá trị\n",
    "        type_on_numeric (str, optional): phương pháp điền dữ liệu cho cột numeric (const/mean/median)\n",
    "\n",
    "    Returns:\n",
    "        <list<list>>: dữ liệu sau khi đã được điền vào các giá trị thiếu, dữ liệu là list của các dòng, mỗi dòng là một list chứa các giá trị\n",
    "    \"\"\"\n",
    "    if type_on_numeric == 'const':\n",
    "        newdata = []\n",
    "        m = mode(data)[0]\n",
    "        for i in data:\n",
    "            newrow = []\n",
    "            for j in range(len(i)):\n",
    "                if i[j] == '':\n",
    "                    if j == 3:\n",
    "                        newrow.append(m)\n",
    "                    else:\n",
    "                        newrow.append(0)\n",
    "                else:\n",
    "                    newrow.append(i[j])\n",
    "            newdata.append(newrow)\n",
    "        return newdata\n",
    "    elif type_on_numeric == 'mean':\n",
    "        newdata = []\n",
    "        m = mode(data)[0]\n",
    "        m1 = mean(data)\n",
    "        h = [-1,0,1,-1,2,3,4,5]\n",
    "        for i in data:\n",
    "            newrow = []\n",
    "            for j in range(len(i)):\n",
    "                if i[j] == '':\n",
    "                    if j == 3:\n",
    "                        newrow.append(m)\n",
    "                    else:\n",
    "                        newrow.append(m1[h[j]])\n",
    "                else:\n",
    "                    newrow.append(i[j])\n",
    "            newdata.append(newrow)\n",
    "        return newdata\n",
    "    elif type_on_numeric == 'median':\n",
    "        newdata = []\n",
    "        m = mode(data)[0]\n",
    "        m1 = median(data)\n",
    "        h = [-1,0,1,-1,2,3,4,5]\n",
    "        for i in data:\n",
    "            newrow = []\n",
    "            for j in range(len(i)):\n",
    "                if i[j] == '':\n",
    "                    if j == 3:\n",
    "                        newrow.append(m)\n",
    "                    else:\n",
    "                        newrow.append(m1[h[j]])\n",
    "                else:\n",
    "                    newrow.append(i[j])\n",
    "            newdata.append(newrow)\n",
    "        return newdata"
   ]
  },
  {
   "cell_type": "code",
   "execution_count": 18,
   "metadata": {
    "id": "kz_tGca9BO0h"
   },
   "outputs": [],
   "source": [
    "data_filled_const = fill_data(data, type_on_numeric = 'const')\n",
    "data_filled_mean = fill_data(data, type_on_numeric = 'mean')\n",
    "data_filled_median = fill_data(data, type_on_numeric = 'median')"
   ]
  },
  {
   "cell_type": "code",
   "execution_count": 19,
   "metadata": {
    "id": "mE88R74DBO0h"
   },
   "outputs": [],
   "source": [
    "assert data_filled_const[20] == [20, 3.0, 0, 'N1', 0, 5.0, 4.8, 0]\n",
    "assert data_filled_const[25] == [25, 3.75, 3.5, 'N1', 0, 0, 6.8, 0]"
   ]
  },
  {
   "cell_type": "code",
   "execution_count": 20,
   "metadata": {
    "id": "Rbw8R2U-BO0h"
   },
   "outputs": [],
   "source": [
    "assert data_filled_mean[20] == [20, 3.0, 5.56, 'N1', 4.76, 5.0, 4.8, 5.62]\n",
    "assert data_filled_mean[25] == [25, 3.75, 3.5, 'N1', 4.76, 4.67, 6.8, 5.62]"
   ]
  },
  {
   "cell_type": "code",
   "execution_count": 21,
   "metadata": {
    "id": "WcA250EWBO0h"
   },
   "outputs": [],
   "source": [
    "assert data_filled_median[20] == [20, 3.0, 5.75, 'N1', 4.4, 5.0, 4.8, 5.75]\n",
    "assert data_filled_median[25] == [25, 3.75, 3.5, 'N1', 4.4, 4.5, 6.8, 5.75]"
   ]
  },
  {
   "cell_type": "markdown",
   "metadata": {
    "id": "cUZCkaD0BO0h"
   },
   "source": [
    "### 3) Xóa các dòng và cột mang số lượng của giá trị thiếu lớn hơn một ngưỡng cho trước (0.5đ)\n",
    "Hàm `filter_missing_row()` sẽ nhận vào dữ liệu và tỉ lệ ngưỡng `ratio` giữa số lượng dữ liệu thiếu và tổng số lượng thuộc tính. Lấy ví dụ, nếu `ratio=0.5` thì các hàng có số lượng giá trị thiếu lớn hơn 50% sẽ bị loại bỏ khỏi tập dữ liệu"
   ]
  },
  {
   "cell_type": "code",
   "execution_count": 22,
   "metadata": {
    "id": "1RZxRkN9BO0h"
   },
   "outputs": [],
   "source": [
    "def filter_missing_row(data, ratio = 0.5):\n",
    "    \"\"\"Hàm này có nhiệm vụ xóa đi các dòng có tỉ lệ dữ liệu bị thiếu LỚN HƠN HOẶC BẰNG một ngưỡng cho trước\n",
    "\n",
    "    Args:\n",
    "        data <list<list>>: list của các dòng dữ liệu trong file dữ liệu đầu vào, mỗi dòng sẽ là một list các giá trị\n",
    "        ratio (float, optional): Tỉ lệ ngưỡng mà dữ liệu cho phép thiếu\n",
    "\n",
    "    Returns:\n",
    "        <list<list>>: dữ liệu sau khi đã được xóa bớt các dòng thiếu lượng lớn dữ liệu, dữ liệu là list của các dòng, mỗi dòng là một list chứa các giá trị\n",
    "    \"\"\"\n",
    "    limit = len(data[0])*ratio\n",
    "    newdata = []\n",
    "    for row in data:\n",
    "        missing = 0\n",
    "        for value in row:\n",
    "            if value == '':\n",
    "                missing += 1\n",
    "                if missing > limit:\n",
    "                    break\n",
    "        if missing <= limit:\n",
    "            newdata.append(row)\n",
    "        \n",
    "    return newdata"
   ]
  },
  {
   "cell_type": "code",
   "execution_count": 23,
   "metadata": {
    "id": "jYbyEoOfBO0h"
   },
   "outputs": [],
   "source": [
    "assert len(filter_missing_row(data, 0.3)) == 285581"
   ]
  },
  {
   "cell_type": "markdown",
   "metadata": {
    "id": "brBbE2eQBO0h"
   },
   "source": [
    "Hàm `filter_missing_col()` sẽ nhận vào dữ liệu và tỉ lệ ngưỡng `ratio` giữa số lượng dữ liệu thiếu và tổng số lượng mẫu. Lấy ví dụ, nếu `ratio=0.5` thì các thuộc tính (các cột) có số lượng giá trị thiếu lớn hơn 50% so với số lượng mẫu của tập dữ liệu sẽ bị loại bỏ"
   ]
  },
  {
   "cell_type": "code",
   "execution_count": 24,
   "metadata": {
    "id": "e_1WQUFiBO0h"
   },
   "outputs": [],
   "source": [
    "def filter_missing_col(data, header, ratio = 0.5):\n",
    "    \"\"\"Hàm này có nhiệm vụ xóa đi các cột có tỉ lệ dữ liệu bị thiếu LỚN HƠN HOẶC BẰNG một ngưỡng cho trước\n",
    "\n",
    "    Args:\n",
    "        data <list<list>>: list của các dòng dữ liệu trong file dữ liệu đầu vào, mỗi dòng sẽ là một list các giá trị\n",
    "        ratio (float, optional): Tỉ lệ ngưỡng mà dữ liệu cho phép thiếu\n",
    "\n",
    "    Returns:\n",
    "        <list>: header đã được cập nhật thông qua việc loại bỏ đi bớt các cột không đủ điều kiện (nếu có loại bỏ)\n",
    "        <list<list>>: dữ liệu sau khi đã được xóa bớt các cột thiếu lượng lớn dữ liệu, dữ liệu là list của các dòng, mỗi dòng là một list chứa các giá trị\n",
    "    \"\"\"\n",
    "    limit = len(data)*ratio\n",
    "    delete = []\n",
    "    for col in range(len(data[0])):\n",
    "        missing = 0\n",
    "        for row in data:\n",
    "            if row[col] == '':\n",
    "                missing += 1\n",
    "                if missing > limit:\n",
    "                    delete.append(col)\n",
    "                    break\n",
    "        \n",
    "        \n",
    "    return [header[i] for i in range(len(header)) if i not in delete], [[row[col] for col in range(len(row)) if col not in delete] for row in data]"
   ]
  },
  {
   "cell_type": "code",
   "execution_count": 25,
   "metadata": {
    "id": "6pnSdZ8wKIkF"
   },
   "outputs": [],
   "source": [
    "new_header, new_data = filter_missing_col(data, header, 0.05)"
   ]
  },
  {
   "cell_type": "code",
   "execution_count": 26,
   "metadata": {
    "id": "E1-aotbEBO0h"
   },
   "outputs": [],
   "source": [
    "assert new_header == ['id', 'Hoa', 'Li', 'Sinh', 'Toan', 'Van']\n",
    "# Không tính cột id\n",
    "assert len(new_data[0]) - 1 == 5\n"
   ]
  },
  {
   "cell_type": "markdown",
   "metadata": {
    "id": "cjnINoa0BO0i"
   },
   "source": [
    "### 4) Xóa các mẫu bị trùng lặp (0.5đ)\n",
    "Kiểm tra, xác định các dòng bị trùng dữ liệu và xóa các dòng đó. \n",
    "\n",
    "Với mỗi dòng, so sánh với các dòng dữ liệu bên dưới để kiểm tra sự trùng lặp, các dòng sẽ được xem là trùng lặp nếu tất cả các thuộc tính giống nhau.\n",
    "\n",
    "Gợi ý: với mỗi dòng dữ liệu tổng hợp lại thành một chuỗi `str` nào đó rồi đưa vào `set`, sau đó dùng `set` để kiểm tra xem dữ liệu đã xuất hiện chưa. "
   ]
  },
  {
   "cell_type": "code",
   "execution_count": 27,
   "metadata": {
    "id": "nI-LzaxbBO0i"
   },
   "outputs": [],
   "source": [
    "def remove_duplicate(data):\n",
    "    \"\"\"Hàm này sẽ thực hiện loại bỏ các dòng bị trùng lặp VỀ MẶT DỮ LIỆU (không xét cột id)\n",
    "\n",
    "    Args:\n",
    "        data <list<list>>: list của các dòng dữ liệu trong file dữ liệu đầu vào, mỗi dòng sẽ là một list các giá trị\n",
    "\n",
    "    Returns:\n",
    "        <list<list>>: dữ liệu sau khi đã được xóa bớt các dòng trùng lặp, dữ liệu là list của các dòng, mỗi dòng là một list chứa các giá trị\n",
    "    \"\"\"\n",
    "    s = set()\n",
    "    newdata = []\n",
    "    for row in data:\n",
    "        sstr = ''\n",
    "        for i in range(1,len(row)):\n",
    "            sstr += str(row[i]) + '#'\n",
    "        if sstr not in s:\n",
    "            s.add(sstr)\n",
    "            newdata.append(row)\n",
    "    return newdata"
   ]
  },
  {
   "cell_type": "code",
   "execution_count": 28,
   "metadata": {
    "id": "rSmbHyLRBO0i"
   },
   "outputs": [],
   "source": [
    "assert len(remove_duplicate(data)) == 292762"
   ]
  },
  {
   "cell_type": "markdown",
   "metadata": {
    "id": "xymxnJCOBO0i"
   },
   "source": [
    "### 5) Loại bỏ bớt giá trị cực hạn của các cột numeric (1đ)\n",
    "\n",
    "Sinh viên sẽ sử dụng luật 2 sigma (95% dữ liệu sẽ thuộc đoạn [$\\mu \\pm 2*\\sigma$]) và 3 sigma (99.7% dữ liệu sẽ thuộc đoạn [$\\mu \\pm 3*\\sigma$]) để loại bỏ các mẫu có giá trị mang giá trị không bình thường.\n",
    "\n",
    "Hàm `std()` sẽ trả về danh sách chứa các giá trị độ lệch chuẩn của các cột có dạng numeric\n",
    "\n",
    "Hàm `remove_outlier()` sẽ loại bỏ các nhiều bằng các sử dụng lại kết quả của hàm `std()` và hàm `mean()`\n",
    "\n",
    "**Lưu ý:** Các số float cần phải được làm tròn về 2 chữ số bằng hàm `round()`"
   ]
  },
  {
   "cell_type": "code",
   "execution_count": 29,
   "metadata": {
    "id": "m8EPESxGBO0i"
   },
   "outputs": [],
   "source": [
    "def std(data):\n",
    "    \"\"\"Hàm này dùng để tính độ lệch chuẩn theo các cột có dạng numeric\n",
    "\n",
    "    Args:\n",
    "        data <list<list>>: list của các dòng dữ liệu trong file dữ liệu đầu vào, mỗi dòng sẽ là một list các giá trị\n",
    "\n",
    "    Returns:\n",
    "        <list>: list chứa các giá trị độ lệch chuẩn theo từng cột\n",
    "    \"\"\"\n",
    "    sds = []\n",
    "    means = mean(data)\n",
    "    mean_index = 0\n",
    "\n",
    "    for col in range(len(data[0])):\n",
    "        count = 0\n",
    "        t = 0\n",
    "        if col != 0 and col != 3:\n",
    "            for row in range(len(data)):\n",
    "                if data[row][col] != '':\n",
    "                    count += 1\n",
    "                    t += (data[row][col] - means[mean_index])**2\n",
    "            if(t != 0):\n",
    "                sds.append(round(math.sqrt(t/(count-1)),2))\n",
    "            mean_index += 1\n",
    "        \n",
    "    return sds"
   ]
  },
  {
   "cell_type": "code",
   "execution_count": 30,
   "metadata": {
    "id": "Yl4auO5rBO0i"
   },
   "outputs": [],
   "source": [
    "assert std(data) == [1.59, 1.62, 1.78, 1.25, 1.39, 1.11]"
   ]
  },
  {
   "cell_type": "markdown",
   "metadata": {
    "id": "WJBLG6f1BO0i"
   },
   "source": [
    "Hàm `remove_outlier()` sẽ nhận vào `data` và số `k`-sigma mà chúng ta muốn chọn ra từ dữ liệu, dòng dữ liệu sẽ được giữ lại nếu:\n",
    "$$\n",
    "(\\mu_i - k*\\sigma_i) \\le value_i \\le (\\mu + k*\\sigma_i)\n",
    "$$\n",
    "\n",
    "Với $\\sigma_i, value_i$ lần lượt là giá trị của cột $i$ và độ lệch chuẩn của cột $i$ "
   ]
  },
  {
   "cell_type": "code",
   "execution_count": 31,
   "metadata": {
    "id": "el5l1Qr3BO0i"
   },
   "outputs": [],
   "source": [
    "from tqdm import tqdm\n",
    "\n",
    "def remove_outlier(data, k):\n",
    "    \"\"\"Hàm này sẽ loại bỏ các dòng chứa ít nhất một giá trị không thuộc đoạn cho phép ứng với mean và std của từng cột\n",
    "\n",
    "    Args:\n",
    "        data <list<list>>: list của các dòng dữ liệu trong file dữ liệu đầu vào, mỗi dòng sẽ là một list các giá trị\n",
    "        k <float>: số lượng sigma được dùng để tính khoảng \n",
    "\n",
    "    Returns:\n",
    "        <list<list>>: dữ liệu sau khi đã được xóa bớt các dòng có chứa giá trị không thuộc đoạn dữ liệu cho phép, dữ liệu là list của các dòng, mỗi dòng là một list chứa các giá trị\n",
    "    \"\"\"\n",
    "    m, s = mean(data), std(data)\n",
    "    outlier_limit = [[round(i-k*j,2),round(i+k*j,2)] for i, j in zip(m,s)]\n",
    "    newdata = []\n",
    "    \n",
    "    for row in data:\n",
    "        index = 0\n",
    "        remove = False\n",
    "        for col in row:\n",
    "            if type(col) == float:\n",
    "                if (col > outlier_limit[index][1] or col < outlier_limit[index][0]):\n",
    "                    remove = True\n",
    "                    break\n",
    "                else:\n",
    "                    index += 1\n",
    "            \n",
    "        if remove == False:\n",
    "            newdata.append(row)\n",
    "    return newdata"
   ]
  },
  {
   "cell_type": "markdown",
   "metadata": {
    "id": "-Hp6sOdLBO0i"
   },
   "source": [
    "Do hàm này có khá nhiều phép so sánh nên mình sẽ chọn ra 1000 mẫu đầu tiên của dữ liệu để kiểm tra hàm"
   ]
  },
  {
   "cell_type": "code",
   "execution_count": 32,
   "metadata": {
    "id": "Klz8rPutBO0i"
   },
   "outputs": [
    {
     "ename": "AssertionError",
     "evalue": "",
     "output_type": "error",
     "traceback": [
      "\u001b[1;31m---------------------------------------------------------------------------\u001b[0m",
      "\u001b[1;31mAssertionError\u001b[0m                            Traceback (most recent call last)",
      "Input \u001b[1;32mIn [32]\u001b[0m, in \u001b[0;36m<cell line: 3>\u001b[1;34m()\u001b[0m\n\u001b[0;32m      1\u001b[0m sampled_data \u001b[38;5;241m=\u001b[39m data[\u001b[38;5;241m0\u001b[39m:\u001b[38;5;241m1000\u001b[39m]\n\u001b[1;32m----> 3\u001b[0m \u001b[38;5;28;01massert\u001b[39;00m \u001b[38;5;28mlen\u001b[39m(remove_outlier(sampled_data, k \u001b[38;5;241m=\u001b[39m \u001b[38;5;241m2\u001b[39m)) \u001b[38;5;241m==\u001b[39m \u001b[38;5;241m810\u001b[39m\n",
      "\u001b[1;31mAssertionError\u001b[0m: "
     ]
    }
   ],
   "source": [
    "sampled_data = data[0:1000]\n",
    "\n",
    "assert len(remove_outlier(sampled_data, k = 2)) == 810"
   ]
  },
  {
   "cell_type": "markdown",
   "metadata": {
    "id": "oIE3hKa2BO0i"
   },
   "source": [
    "### 6) Tính điểm tổ hợp môn (1.5đ)\n",
    "\n",
    "Sinh viên cần tạo thêm các cột mới chứa điểm tổ hợp các môn theo thứ tự lần lượt [`A`, `A1`, `A2`, `B`, `D`]. Cụ thể, sinh viên cần tính điểm tổ hợp khối `A`, khối `A1`, khối `A2`, khối `B` và khối `D` theo cách tính.\n",
    "\n",
    "Cột `A` = `Toan` + `Li` + `Hoa`\n",
    "\n",
    "Cột `A1` = `Toan` + `Li` + `Ngoai_ngu`\n",
    "\n",
    "Cột `A2` = `Toan` + `Hoa` + `Ngoai_ngu` \n",
    "\n",
    "Cột `B` = `Toan` + `Hoa` + `Sinh`\n",
    "\n",
    "Cột `D` = `Toan` + `Van` + `Ngoai_ngu`\n",
    "\n",
    "**Lưu ý:** khối `A1`, khối `A2` chỉ được tính khi `Ma_mon_ngoai_ngu = N1`, nếu `Ma_mon_ngoai_ngu != N1`, thì cột `A1` và `A2` sẽ có giá trị 0\n",
    "\n",
    "Xét ví dụ: \n",
    "\n",
    "+ Cho header\n",
    "\n",
    "['id', 'Hoa', 'Li', 'Ma_mon_ngoai_ngu', 'Ngoai_ngu', 'Sinh', 'Toan', 'Van']\n",
    "\n",
    "+ Xét mẫu dữ liệu\n",
    "\n",
    "[0, 4.5, 8.25, 'N1', 8.0, 6.0, 8.6, 6.17]\n",
    "\n",
    "+ Header sẽ được xây dựng thành\n",
    "\n",
    "['id', 'Hoa', 'Li', 'Ma_mon_ngoai_ngu', 'Ngoai_ngu', 'Sinh', 'Toan', 'Van', `'A'`, `'A1'`, `'A2'`, `'B'`, `'D'`]\n",
    "\n",
    "+ Dữ liệu xây dựng thành\n",
    "\n",
    "[0, 4.5, 8.25, N1, 8.0, 6.0, 8.6, 6.17, `A`, `A1`, `A2`, `B`, `D`]\n",
    "\n",
    "+ Và bằng\n",
    "\n",
    "[0, 4.5, 8.25, N1, 8.0, 6.0, 8.6, 6.17, `21.35`, `24.85`, `21.1`, `19.1`, `22.77`]\n",
    "\n",
    "Sinh viên sử dụng dữ liệu đã được điền đầy đủ giá trị bằng giá trị 0 (data_filled_const) để tính tổng, vì thí sinh không dự thi đồng nghĩa với điểm bằng 0 khi xét tổ hợp môn. Điểm số sẽ được làm tròn tối đa 2 chữ số thập phân bằng hàm `round()`"
   ]
  },
  {
   "cell_type": "code",
   "execution_count": 33,
   "metadata": {
    "id": "hC1i2kPDBO0i"
   },
   "outputs": [],
   "source": [
    "def calculate_combination(data, header):\n",
    "    \"\"\"Hàm này sẽ có nhiệm vụ xây dựng nên các thuộc tính mới cho dữ liệu, cụ thể là tính điểm tổ hợp các khối liên quan\n",
    "\n",
    "    Args:\n",
    "        data <list<list>>: list của các dòng dữ liệu trong file dữ liệu đầu vào, mỗi dòng sẽ là một list các giá trị\n",
    "        header <list>: list chứa tên của các cột thuộc tính\n",
    "\n",
    "\n",
    "    Returns:\n",
    "        <list>: header đã được cập nhật thêm tên của các cột thuộc tính mới\n",
    "        <list<list>>: dữ liệu sau khi đã được xóa bớt các dòng có chứa giá trị không thuộc đoạn dữ liệu cho phép, dữ liệu là list của các dòng, mỗi dòng là một list chứa các giá trị\n",
    "    \"\"\"\n",
    "    ns = ['A', 'A1', 'A2', 'B', 'D']\n",
    "    newheader = []\n",
    "    newdata = []\n",
    "    for i in header:\n",
    "        newheader.append(i)\n",
    "    for i in ns:\n",
    "        newheader.append(i)\n",
    "    for i in data:\n",
    "        newrow = []\n",
    "        for j in i:\n",
    "            newrow.append(j)\n",
    "        newdata.append(newrow)\n",
    "    \n",
    "    \n",
    "    for row in newdata:\n",
    "        row.append(round((row[1]+row[2]+row[6]),2))\n",
    "        if row[3] == 'N1':\n",
    "            row.append(round((row[2]+row[4]+row[6]),2))\n",
    "            row.append(round((row[1]+row[4]+row[6]),2))\n",
    "        else:\n",
    "            row.append(round((row[1]+row[6]),2))\n",
    "            row.append(round((row[2]+row[6]),2))\n",
    "        row.append(round((row[1]+row[5]+row[6]),2))\n",
    "        row.append(round((row[4]+row[6]+row[7]),2))\n",
    "    \n",
    "    return newheader, newdata "
   ]
  },
  {
   "cell_type": "code",
   "execution_count": 34,
   "metadata": {
    "id": "8jFCsRuEBO0i"
   },
   "outputs": [],
   "source": [
    "new_header, new_data = calculate_combination(data_filled_const, header)"
   ]
  },
  {
   "cell_type": "code",
   "execution_count": 35,
   "metadata": {
    "id": "Ct--Ef71BO0i"
   },
   "outputs": [],
   "source": [
    "assert new_header == ['id', 'Hoa', 'Li', 'Ma_mon_ngoai_ngu', 'Ngoai_ngu', 'Sinh', 'Toan', 'Van', 'A', 'A1', 'A2', 'B', 'D']\n",
    "assert new_data[0] == [0, 4.5, 8.25, 'N1', 8.0, 6.0, 8.6, 6.17, 21.35, 24.85, 21.1, 19.1, 22.77]"
   ]
  },
  {
   "cell_type": "markdown",
   "metadata": {
    "id": "CiRdJi9eBO0i"
   },
   "source": [
    "### 7) Chuẩn hóa dữ liệu (1đ)\n",
    "\n",
    "Sinh viên cần chuẩn hóa các cột dạng numeric theo phương pháp min-max và Z-score\n",
    "\n",
    "Sử dụng kết quả dữ liệu tìm được ở câu 2 để làm input cho hàm chuẩn hóa "
   ]
  },
  {
   "cell_type": "code",
   "execution_count": 36,
   "metadata": {
    "id": "BP2otTJyBO0i"
   },
   "outputs": [],
   "source": [
    "# Sinh viên uncomment đoạn code này để đọc vào dữ liệu đã được điền thiếu có sẵn nếu không làm được câu 2\n",
    "# header, data_filled_const = data_reader('data_filled_const.csv')\n",
    "# assert data_filled_const[20] == [20, 3.0, 0, 'N1', 0, 5.0, 4.8, 0]"
   ]
  },
  {
   "cell_type": "code",
   "execution_count": 37,
   "metadata": {
    "id": "9HrAyTs7BO0j"
   },
   "outputs": [],
   "source": [
    "def min_max_value(data):\n",
    "    \"\"\"Hàm này sẽ có nhiệm vụ tìm các giá trị min và max theo từng cột thuộc tính của dữ liệu đầu vào\n",
    "\n",
    "    Args:\n",
    "        data <list<list>>: list của các dòng dữ liệu trong file dữ liệu đầu vào, mỗi dòng sẽ là một list các giá trị\n",
    "\n",
    "    Returns:\n",
    "        <list>: list chứa các giá trị min ứng với từng cột thuộc tính có dạng numeric\n",
    "        <list>: list chứa các giá trị max ứng với từng cột thuộc tính có dạng numeric\n",
    "    \"\"\"\n",
    "    minlist = [11 for i in range(6)]\n",
    "    maxlist = [-1 for i in range(6)]\n",
    "    for row in data:\n",
    "        index = 0\n",
    "        for col in range(len(row)):\n",
    "            if col != 0 and col != 3:\n",
    "                if row[col] < minlist[index]:\n",
    "                    minlist[index] = row[col]\n",
    "                if row[col] > maxlist[index]:\n",
    "                    maxlist[index] = row[col]\n",
    "                index += 1\n",
    "    return minlist, maxlist"
   ]
  },
  {
   "cell_type": "code",
   "execution_count": 38,
   "metadata": {
    "id": "6dy2njaMBO0j"
   },
   "outputs": [],
   "source": [
    "def min_max_scaler(data):\n",
    "    \"\"\"Hàm này sẽ có nhiệm vụ chuẩn hóa dữ liệu theo phương pháp min-max\n",
    "\n",
    "    Args:\n",
    "        data <list<list>>: list của các dòng dữ liệu trong file dữ liệu đầu vào, mỗi dòng sẽ là một list các giá trị\n",
    "\n",
    "    Returns:\n",
    "        <list<list>>: dữ liệu sau khi đã được chuẩn hóa theo phương pháp min-max, dữ liệu là list của các dòng, mỗi dòng là một list chứa các giá trị\n",
    "    \"\"\"\n",
    "    minlist, maxlist = min_max_value(data_filled_const)\n",
    "    newdata = []\n",
    "    for row in data:\n",
    "        newrow = []\n",
    "        index = 0\n",
    "        for col in range(len(row)):\n",
    "            if col != 0 and col != 3:\n",
    "                newrow.append(round((row[col]-minlist[index])/(maxlist[index]-minlist[index]),2))\n",
    "                index += 1\n",
    "            else:\n",
    "                newrow.append(row[col])\n",
    "            \n",
    "        newdata.append(newrow)\n",
    "    return newdata"
   ]
  },
  {
   "cell_type": "code",
   "execution_count": 39,
   "metadata": {
    "id": "d0XhyfU4BO0j"
   },
   "outputs": [],
   "source": [
    "def standard_scaler(data):\n",
    "    \"\"\"Hàm này sẽ có nhiệm vụ chuẩn hóa dữ liệu theo phương pháp z-score. Sử dụng lại hàm mean() và std() nếu có thể.\n",
    "\n",
    "    Args:\n",
    "        data <list<list>>: list của các dòng dữ liệu trong file dữ liệu đầu vào, mỗi dòng sẽ là một list các giá trị\n",
    "\n",
    "    Returns:\n",
    "        <list<list>>: dữ liệu sau khi đã được chuẩn hóa theo phương pháp z-score, dữ liệu là list của các dòng, mỗi dòng là một list chứa các giá trị\n",
    "    \"\"\"\n",
    "    meanlist, stdlist = mean(data), std(data)\n",
    "    newdata = []\n",
    "    for row in data:\n",
    "        newrow = []\n",
    "        index = 0\n",
    "        for col in range(len(row)):\n",
    "            if col != 0 and col != 3:\n",
    "                newrow.append(round((row[col]-meanlist[index])/stdlist[index],2))\n",
    "                index += 1\n",
    "            else:\n",
    "                newrow.append(row[col])\n",
    "        newdata.append(newrow)\n",
    "    return newdata"
   ]
  },
  {
   "cell_type": "markdown",
   "metadata": {
    "id": "M4USH_RVBO0j"
   },
   "source": [
    "### 8) Mã hóa one-hot (1đ)\n",
    "\n",
    "Biến đổi cột `Ma_mon_ngoai_ngu` (cột dạng categorical) theo phương pháp mã hóa one-hot\n",
    "\n",
    "Xét ví dụ: \n",
    "\n",
    "+ Cho header\n",
    "\n",
    "['id', 'Hoa', 'Li', 'Ma_mon_ngoai_ngu', 'Ngoai_ngu', 'Sinh', 'Toan', 'Van']\n",
    "\n",
    "+ Xét mẫu dữ liệu\n",
    "\n",
    "[0, 4.5, 8.25, 'N1', 8.0, 6.0, 8.6, 6.17]\n",
    "\n",
    "+ Header được xây dựng thành\n",
    "\n",
    "['id', 'Hoa', 'Li', 'Ngoai_ngu', 'Sinh', 'Toan', 'Van', `'N1'`, `'N2'`, `'N3'`, `'N4'`, `'N5'`, `'N6'`]\n",
    "\n",
    "+ Và dữ liệu bằng\n",
    "\n",
    "[0, 4.5, 8.25, 8.0, 6.0, 8.6, 6.17, `1`, `0`, `0`, `0`, `0`, `0`]\n",
    "\n",
    "**Lưu ý:** Sinh viên cần tự cài đặt hàm tìm các giá trị có thể có của một cột dạng categorical và lưu các giá trị của cột đó bằng một danh sách đã được sắp xếp tăng dần theo bảng chữ cái (nếu không thực hiện được câu 2)\n",
    "\n",
    "Sử dụng kết quả dữ liệu tìm được ở câu 2 để làm input"
   ]
  },
  {
   "cell_type": "code",
   "execution_count": 42,
   "metadata": {
    "id": "CO5997q7E5Va"
   },
   "outputs": [],
   "source": [
    "# Sinh viên uncomment đoạn code này để đọc vào dữ liệu đã được điền thiếu có sẵn nếu không làm được câu 2\n",
    "# header, data_filled_const = data_reader('data_filled_const.csv')\n",
    "# assert data_filled_const[20] == [20, 3.0, 0, 'N1', 0, 5.0, 4.8, 0]"
   ]
  },
  {
   "cell_type": "code",
   "execution_count": 43,
   "metadata": {
    "id": "vRxX3u2sBO0j"
   },
   "outputs": [],
   "source": [
    "def OneHotEncoder(data, header):\n",
    "    \"\"\"Hàm này sẽ có nhiệm mã hóa one-hot dữ liệu trên cột 'Ma_mon_ngoai_ngu'\n",
    "\n",
    "    Args:\n",
    "        data <list<list>>: list của các dòng dữ liệu trong file dữ liệu đầu vào, mỗi dòng sẽ là một list các giá trị\n",
    "        header <list>: list chứa tên của các cột thuộc tính\n",
    "\n",
    "\n",
    "    Returns:\n",
    "        <list>: header đã được cập nhật thêm tên của các cột thuộc tính mới và đã loại bỏ đi cột 'Ma_mon_ngoai_ngu'\n",
    "        <list<list>>: dữ liệu sau khi đã được mã hóa one-hot, dữ liệu là list của các dòng, mỗi dòng là một list chứa các giá trị\n",
    "    \"\"\"\n",
    "    # YOUR CODE HERE\n",
    "    newheader = []\n",
    "    newdata = []\n",
    "    for i in header:\n",
    "        newheader.append(i)\n",
    "    newheader.pop(3)\n",
    "    MaNN = {}\n",
    "    MaNNindex = 0\n",
    "    for i in find_distinct_value(data):\n",
    "        MaNN[i] = MaNNindex\n",
    "        MaNNindex += 1\n",
    "        newheader.append(i)\n",
    "    for i in data:\n",
    "        newrow = []\n",
    "        keyMaNN = ''\n",
    "        for j in range(len(i)):\n",
    "            if j != 3:\n",
    "                newrow.append(i[j])\n",
    "            if j == 3:\n",
    "                keyMaNN = i[j]\n",
    "        for k in range(len(MaNN)):\n",
    "            if k == MaNN[keyMaNN]:\n",
    "                newrow.append(1)\n",
    "            else:\n",
    "                newrow.append(0)\n",
    "        newdata.append(newrow)\n",
    "    return newheader, newdata    "
   ]
  },
  {
   "cell_type": "code",
   "execution_count": 44,
   "metadata": {
    "id": "KVUSzIdgBO0j"
   },
   "outputs": [],
   "source": [
    "new_header, new_data = OneHotEncoder(data_filled_const, header)"
   ]
  },
  {
   "cell_type": "code",
   "execution_count": 45,
   "metadata": {
    "id": "pNODJ2q_BO0j"
   },
   "outputs": [],
   "source": [
    "assert new_data[0] == [0, 4.5, 8.25, 8.0, 6.0, 8.6, 6.17, 1, 0, 0, 0, 0, 0]"
   ]
  },
  {
   "cell_type": "markdown",
   "metadata": {
    "id": "Z40RsGYLBO0j"
   },
   "source": [
    "## Phần 2: Làm quen với numpy và pandas (2.5đ)\n",
    "\n",
    "Đa số các yêu cầu trên đề được hỗ trợ bởi pandas và numpy. \n",
    "\n",
    "Sang đến phần này yêu cầu sinh viên tính độ tương quan giữa các cặp thuộc tính dạng numeric. \n",
    "\n",
    "Phần này cho phép sinh viên sử làm quen và sử dụng pandas để tính toán, và trực quan, tuy nhiên phần nào mình yêu cầu cài đặt thì sinh viên không được sử dụng thư viện có sẵn.\n",
    "\n",
    "Phần này sinh viên có thể tạo thêm cell nếu cần thiết"
   ]
  },
  {
   "cell_type": "code",
   "execution_count": 46,
   "metadata": {
    "id": "khYYL9L7BO0j"
   },
   "outputs": [],
   "source": [
    "import pandas as pd\n",
    "import matplotlib.pyplot as plt\n",
    "import seaborn as sb"
   ]
  },
  {
   "cell_type": "code",
   "execution_count": 47,
   "metadata": {
    "id": "caBHz9x_BO0j"
   },
   "outputs": [
    {
     "data": {
      "text/html": [
       "<div>\n",
       "<style scoped>\n",
       "    .dataframe tbody tr th:only-of-type {\n",
       "        vertical-align: middle;\n",
       "    }\n",
       "\n",
       "    .dataframe tbody tr th {\n",
       "        vertical-align: top;\n",
       "    }\n",
       "\n",
       "    .dataframe thead th {\n",
       "        text-align: right;\n",
       "    }\n",
       "</style>\n",
       "<table border=\"1\" class=\"dataframe\">\n",
       "  <thead>\n",
       "    <tr style=\"text-align: right;\">\n",
       "      <th></th>\n",
       "      <th>Hoa</th>\n",
       "      <th>Li</th>\n",
       "      <th>Ma_mon_ngoai_ngu</th>\n",
       "      <th>Ngoai_ngu</th>\n",
       "      <th>Sinh</th>\n",
       "      <th>Toan</th>\n",
       "      <th>Van</th>\n",
       "    </tr>\n",
       "    <tr>\n",
       "      <th>id</th>\n",
       "      <th></th>\n",
       "      <th></th>\n",
       "      <th></th>\n",
       "      <th></th>\n",
       "      <th></th>\n",
       "      <th></th>\n",
       "      <th></th>\n",
       "    </tr>\n",
       "  </thead>\n",
       "  <tbody>\n",
       "    <tr>\n",
       "      <th>0</th>\n",
       "      <td>4.50</td>\n",
       "      <td>8.25</td>\n",
       "      <td>N1</td>\n",
       "      <td>8.0</td>\n",
       "      <td>6.00</td>\n",
       "      <td>8.6</td>\n",
       "      <td>6.17</td>\n",
       "    </tr>\n",
       "    <tr>\n",
       "      <th>1</th>\n",
       "      <td>5.75</td>\n",
       "      <td>7.50</td>\n",
       "      <td>N1</td>\n",
       "      <td>4.4</td>\n",
       "      <td>3.00</td>\n",
       "      <td>7.2</td>\n",
       "      <td>6.75</td>\n",
       "    </tr>\n",
       "    <tr>\n",
       "      <th>2</th>\n",
       "      <td>3.50</td>\n",
       "      <td>5.50</td>\n",
       "      <td>N1</td>\n",
       "      <td>2.2</td>\n",
       "      <td>3.75</td>\n",
       "      <td>5.6</td>\n",
       "      <td>4.50</td>\n",
       "    </tr>\n",
       "    <tr>\n",
       "      <th>3</th>\n",
       "      <td>5.00</td>\n",
       "      <td>7.00</td>\n",
       "      <td>N1</td>\n",
       "      <td>3.6</td>\n",
       "      <td>4.75</td>\n",
       "      <td>7.0</td>\n",
       "      <td>6.25</td>\n",
       "    </tr>\n",
       "    <tr>\n",
       "      <th>4</th>\n",
       "      <td>6.75</td>\n",
       "      <td>8.00</td>\n",
       "      <td>N1</td>\n",
       "      <td>8.8</td>\n",
       "      <td>6.25</td>\n",
       "      <td>7.8</td>\n",
       "      <td>7.25</td>\n",
       "    </tr>\n",
       "    <tr>\n",
       "      <th>...</th>\n",
       "      <td>...</td>\n",
       "      <td>...</td>\n",
       "      <td>...</td>\n",
       "      <td>...</td>\n",
       "      <td>...</td>\n",
       "      <td>...</td>\n",
       "      <td>...</td>\n",
       "    </tr>\n",
       "    <tr>\n",
       "      <th>296975</th>\n",
       "      <td>5.50</td>\n",
       "      <td>5.50</td>\n",
       "      <td>N1</td>\n",
       "      <td>2.8</td>\n",
       "      <td>3.75</td>\n",
       "      <td>6.6</td>\n",
       "      <td>4.00</td>\n",
       "    </tr>\n",
       "    <tr>\n",
       "      <th>296976</th>\n",
       "      <td>4.50</td>\n",
       "      <td>5.25</td>\n",
       "      <td>N1</td>\n",
       "      <td>3.8</td>\n",
       "      <td>5.75</td>\n",
       "      <td>6.2</td>\n",
       "      <td>4.50</td>\n",
       "    </tr>\n",
       "    <tr>\n",
       "      <th>296977</th>\n",
       "      <td>3.25</td>\n",
       "      <td>4.25</td>\n",
       "      <td>N1</td>\n",
       "      <td>3.2</td>\n",
       "      <td>5.50</td>\n",
       "      <td>5.4</td>\n",
       "      <td>5.75</td>\n",
       "    </tr>\n",
       "    <tr>\n",
       "      <th>296978</th>\n",
       "      <td>4.50</td>\n",
       "      <td>3.75</td>\n",
       "      <td>N1</td>\n",
       "      <td>4.4</td>\n",
       "      <td>4.00</td>\n",
       "      <td>5.2</td>\n",
       "      <td>6.25</td>\n",
       "    </tr>\n",
       "    <tr>\n",
       "      <th>296979</th>\n",
       "      <td>4.50</td>\n",
       "      <td>5.25</td>\n",
       "      <td>N1</td>\n",
       "      <td>2.2</td>\n",
       "      <td>3.75</td>\n",
       "      <td>6.4</td>\n",
       "      <td>5.75</td>\n",
       "    </tr>\n",
       "  </tbody>\n",
       "</table>\n",
       "<p>296980 rows × 7 columns</p>\n",
       "</div>"
      ],
      "text/plain": [
       "         Hoa    Li Ma_mon_ngoai_ngu  Ngoai_ngu  Sinh  Toan   Van\n",
       "id                                                              \n",
       "0       4.50  8.25               N1        8.0  6.00   8.6  6.17\n",
       "1       5.75  7.50               N1        4.4  3.00   7.2  6.75\n",
       "2       3.50  5.50               N1        2.2  3.75   5.6  4.50\n",
       "3       5.00  7.00               N1        3.6  4.75   7.0  6.25\n",
       "4       6.75  8.00               N1        8.8  6.25   7.8  7.25\n",
       "...      ...   ...              ...        ...   ...   ...   ...\n",
       "296975  5.50  5.50               N1        2.8  3.75   6.6  4.00\n",
       "296976  4.50  5.25               N1        3.8  5.75   6.2  4.50\n",
       "296977  3.25  4.25               N1        3.2  5.50   5.4  5.75\n",
       "296978  4.50  3.75               N1        4.4  4.00   5.2  6.25\n",
       "296979  4.50  5.25               N1        2.2  3.75   6.4  5.75\n",
       "\n",
       "[296980 rows x 7 columns]"
      ]
     },
     "execution_count": 47,
     "metadata": {},
     "output_type": "execute_result"
    }
   ],
   "source": [
    "df = pd.read_csv('data_filled_const.csv', index_col = 'id')\n",
    "df"
   ]
  },
  {
   "cell_type": "markdown",
   "metadata": {
    "id": "FcDON7J7BO0j"
   },
   "source": [
    "### 9) Tính độ tương quan giữa các cột thuộc tính (1đ)\n",
    "\n",
    "Sinh viên thực hiện tính độ tương quan (correlation) giữa các cặp thuộc tính có dạng numeric, và trực quan hóa theo biểu đồ heat map\n",
    "\n",
    "Tham khảo:\n",
    "\n",
    "[https://pandas.pydata.org/docs/reference/api/pandas.DataFrame.corr.html](https://pandas.pydata.org/docs/reference/api/pandas.DataFrame.corr.html)\n",
    "\n",
    "[https://seaborn.pydata.org/generated/seaborn.heatmap.html](https://seaborn.pydata.org/generated/seaborn.heatmap.html)\n",
    "\n",
    "Sau đó sử dụng thông tin về độ tương quan để kiểm tra giả thuyết :\n",
    "\n",
    "    Thí sinh học toán tốt sẽ có xu hướng học lý hoặc học hóa tốt"
   ]
  },
  {
   "cell_type": "code",
   "execution_count": 48,
   "metadata": {
    "id": "zUTHYxo2BO0j"
   },
   "outputs": [
    {
     "data": {
      "image/png": "[encoded data removed]",
      "text/plain": [
       "<Figure size 432x288 with 2 Axes>"
      ]
     },
     "metadata": {
      "needs_background": "light"
     },
     "output_type": "display_data"
    }
   ],
   "source": [
    "corr = df.corr(method='pearson')\n",
    "disp = sb.heatmap(corr, cmap=\"mako\")\n",
    "disp.xaxis.tick_top()"
   ]
  },
  {
   "cell_type": "markdown",
   "metadata": {
    "id": "H-L08uT2BO0j"
   },
   "source": [
    "Từ biểu đồ nhiệt, có thể thấy màu của ô Toán-Hoá và Toán-Lí khác màu của vùng lân cận, và gần 1.0 hơn. Vậy có thể suy ra giả thuyết đúng"
   ]
  },
  {
   "cell_type": "markdown",
   "metadata": {
    "id": "K42FdLpmBO0k"
   },
   "source": [
    "### 10) Trực quan hóa (1.5đ)\n",
    "\n",
    "Thực hiện chọn và trực quan hóa phân phối điểm của các môn có trong dữ liệu học và nêu nhận xét về phân bố điểm thi. \n",
    "\n",
    "Riêng đối với môn ngoại ngữ, sinh viên chọn riêng ra theo từng `Ma_mon_ngoai_ngu` và trực quan hóa theo từng mã môn ngoại ngữ riêng (N1, N2, ... N6) và nêu nhận xét.\n",
    "\n"
   ]
  },
  {
   "cell_type": "code",
   "execution_count": 49,
   "metadata": {
    "id": "cuRhnTACBO0k"
   },
   "outputs": [
    {
     "data": {
      "image/png": "[encoded data removed]",
      "text/plain": [
       "<Figure size 432x288 with 1 Axes>"
      ]
     },
     "metadata": {
      "needs_background": "light"
     },
     "output_type": "display_data"
    },
    {
     "data": {
      "image/png": "[encoded data removed]",
      "text/plain": [
       "<Figure size 432x288 with 1 Axes>"
      ]
     },
     "metadata": {
      "needs_background": "light"
     },
     "output_type": "display_data"
    },
    {
     "data": {
      "image/png": "[encoded data removed]",
      "text/plain": [
       "<Figure size 432x288 with 1 Axes>"
      ]
     },
     "metadata": {
      "needs_background": "light"
     },
     "output_type": "display_data"
    },
    {
     "data": {
      "image/png": "[encoded data removed]",
      "text/plain": [
       "<Figure size 432x288 with 1 Axes>"
      ]
     },
     "metadata": {
      "needs_background": "light"
     },
     "output_type": "display_data"
    },
    {
     "data": {
      "image/png": "[encoded data removed]",
      "text/plain": [
       "<Figure size 432x288 with 1 Axes>"
      ]
     },
     "metadata": {
      "needs_background": "light"
     },
     "output_type": "display_data"
    }
   ],
   "source": [
    "for i in header:\n",
    "    if i != 'id' and i != 'Ma_mon_ngoai_ngu' and i != 'Ngoai_ngu':\n",
    "        df.plot(y=i, kind='hist')\n",
    "plt.show()"
   ]
  },
  {
   "cell_type": "markdown",
   "metadata": {
    "id": "R7G_q7SDBO0k"
   },
   "source": [
    "Toán là môn có phổ điểm cao nhất khi đỉnh rơi vào điểm 8 với gần 100000 thí sinh đạt mức này. Đây cũng là môn có nhiều điểm 10 nhất. Phổ điểm môn Hoá và Lý khá tương đồng nhau, với đỉnh nằm ở khoảng 6.5-7 điểm. Xung quanh mức này, ở khoảng 5-8 điểm, mỗi mức đều có trên 40000 thí sinh. Phổ điểm môn Văn có đỉnh nằm ở khoảng 5.5-6.5 điểm, mỗi mức ghi nhận khoảng 90000 thí sinh đạt được. Phổ điểm thấp nhất thuộc về môn Sinh, với đỉnh rơi vào mức 4-5 điểm, và đa số thí sinh không thể đạt điểm 7."
   ]
  },
  {
   "cell_type": "code",
   "execution_count": 50,
   "metadata": {
    "id": "OcksMjwxBO0k"
   },
   "outputs": [
    {
     "data": {
      "image/png": "[encoded data removed]",
      "text/plain": [
       "<Figure size 432x288 with 1 Axes>"
      ]
     },
     "metadata": {
      "needs_background": "light"
     },
     "output_type": "display_data"
    },
    {
     "data": {
      "image/png": "[encoded data removed]",
      "text/plain": [
       "<Figure size 432x288 with 1 Axes>"
      ]
     },
     "metadata": {
      "needs_background": "light"
     },
     "output_type": "display_data"
    },
    {
     "data": {
      "image/png": "[encoded data removed]",
      "text/plain": [
       "<Figure size 432x288 with 1 Axes>"
      ]
     },
     "metadata": {
      "needs_background": "light"
     },
     "output_type": "display_data"
    },
    {
     "data": {
      "image/png": "[encoded data removed]",
      "text/plain": [
       "<Figure size 432x288 with 1 Axes>"
      ]
     },
     "metadata": {
      "needs_background": "light"
     },
     "output_type": "display_data"
    },
    {
     "data": {
      "image/png": "[encoded data removed]",
      "text/plain": [
       "<Figure size 432x288 with 1 Axes>"
      ]
     },
     "metadata": {
      "needs_background": "light"
     },
     "output_type": "display_data"
    },
    {
     "data": {
      "image/png": "[encoded data removed]",
      "text/plain": [
       "<Figure size 432x288 with 1 Axes>"
      ]
     },
     "metadata": {
      "needs_background": "light"
     },
     "output_type": "display_data"
    }
   ],
   "source": [
    "for i in find_distinct_value(data):\n",
    "    df.loc[df['Ma_mon_ngoai_ngu']==i].plot(y='Ngoai_ngu',kind='hist',legend=False,title=i)\n",
    "plt.show()"
   ]
  },
  {
   "cell_type": "markdown",
   "metadata": {
    "id": "aeLfi5rYBO0k"
   },
   "source": [
    "Đại đa số thí sinh đều đăng ký mã ngoại ngữ N1. Phổ điểm này có đỉnh nằm ở khoảng 3-5 điểm, với trên 60000 thí sinh cho mỗi mức. Phổ điểm của các mã N2, N3, N4 và N6 tương đối phân tán do không có nhiều thí sinh đăng ký. Phổ điểm N5 có đỉnh nằm ở khoảng 8-8.5 điểm"
   ]
  },
  {
   "cell_type": "markdown",
   "metadata": {
    "id": "C_yzA8eeyaQ_"
   },
   "source": [
    "# Tài liệu tham khảo cho sinh viên\n",
    "1. Slide lý thuyết\n",
    "2. Textbook: J. Han and M. Kamber: Data Mining, Concepts and Techniques, Second Edition - Chapter 2: Getting to Know Your Data & Chapter 3: Data Preprocessing\n",
    "\n",
    "Mọi thắc mắc các bạn gửi mail cho người hướng dẫn thực hành phụ trách: **Kiều Vũ Minh Đức** (kvmduc3@gmail.com)."
   ]
  },
  {
   "cell_type": "code",
   "execution_count": null,
   "metadata": {},
   "outputs": [],
   "source": []
  }
 ],
 "metadata": {
  "colab": {
   "collapsed_sections": [
    "FcDON7J7BO0j"
   ],
   "provenance": []
  },
  "kernelspec": {
   "display_name": "Python 3 (ipykernel)",
   "language": "python",
   "name": "python3"
  },
  "language_info": {
   "codemirror_mode": {
    "name": "ipython",
    "version": 3
   },
   "file_extension": ".py",
   "mimetype": "text/x-python",
   "name": "python",
   "nbconvert_exporter": "python",
   "pygments_lexer": "ipython3",
   "version": "3.10.5"
  },
  "vscode": {
   "interpreter": {
    "hash": "805ec58a42bb74078ef34e0b09d8887d595db0068f7caef1a8723b55c6fd7fba"
   }
  }
 },
 "nbformat": 4,
 "nbformat_minor": 1
}
